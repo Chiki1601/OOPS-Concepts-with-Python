{
 "cells": [
  {
   "cell_type": "code",
   "execution_count": 3,
   "id": "c85cbf21",
   "metadata": {},
   "outputs": [
    {
     "name": "stdout",
     "output_type": "stream",
     "text": [
      "Enter the temperature in celcius: 30\n",
      "30.00 Celsius is: 86.00 Fahrenheit\n"
     ]
    }
   ],
   "source": [
    "#convert celsius to fahrenheit  \n",
    "\n",
    "celsius = float(input(\"Enter the temperature in celcius: \"))\n",
    "fahrenheit = (celsius * 9/5)+32\n",
    "\n",
    "print(\"%.2f Celsius is: %0.2f Fahrenheit\" %(celsius, fahrenheit))\n",
    "\n"
   ]
  },
  {
   "cell_type": "code",
   "execution_count": 6,
   "id": "b8dd60f2",
   "metadata": {},
   "outputs": [
    {
     "name": "stdout",
     "output_type": "stream",
     "text": [
      "10001"
     ]
    }
   ],
   "source": [
    "#convert decimal to binary\n",
    "\n",
    "def decToBinary(n):\n",
    "    binaryNum = [0] * n\n",
    "    i =0 \n",
    "    while n>0:\n",
    "        binaryNum[i] = n%2\n",
    "        n = int(n/2)\n",
    "        i+=1\n",
    "        \n",
    "    for j in range(i-1,-1,-1):\n",
    "        print(binaryNum[j],end=\"\")\n",
    "        \n",
    "n = 17\n",
    "decToBinary(n)"
   ]
  },
  {
   "cell_type": "code",
   "execution_count": 7,
   "id": "aee5b077",
   "metadata": {},
   "outputs": [
    {
     "name": "stdout",
     "output_type": "stream",
     "text": [
      "169\n"
     ]
    }
   ],
   "source": [
    "#convert binary to Decimal   \n",
    "  \n",
    "def binaryToDecimal(n):\n",
    "    num = n\n",
    "    dec_value = 0\n",
    "    base = 1\n",
    "    \n",
    "    \n",
    "    temp = num\n",
    "    while(temp):\n",
    "        last_digit = temp%10\n",
    "        temp = int(temp/10)\n",
    "        \n",
    "        dec_value += last_digit * base\n",
    "        base = base *2\n",
    "    return dec_value\n",
    "\n",
    "num = 10101001\n",
    "\n",
    "print(binaryToDecimal(num))"
   ]
  },
  {
   "cell_type": "code",
   "execution_count": 8,
   "id": "0e8f87d2",
   "metadata": {},
   "outputs": [
    {
     "name": "stdout",
     "output_type": "stream",
     "text": [
      "9F1"
     ]
    }
   ],
   "source": [
    "#convert decimal to hexadecimal   \n",
    "\n",
    "def decToHexa(n):\n",
    "    hexaDeciNum = ['0'] * 100\n",
    "    i = 0\n",
    "    while n!= 0 :\n",
    "        temp = 0\n",
    "        temp = n %16\n",
    "        if(temp<10):\n",
    "            hexaDeciNum[i]= chr(temp +48)\n",
    "            i = i+1\n",
    "        else:\n",
    "            hexaDeciNum[i] = chr(temp + 55)\n",
    "            i = i+1\n",
    "        n = int(n/16)\n",
    "        \n",
    "    j = i-1\n",
    "    while(j>=0):\n",
    "        print((hexaDeciNum[j]),end=\"\")\n",
    "        j = j-1\n",
    "        \n",
    "        \n",
    "n =2545\n",
    "decToHexa(n)"
   ]
  },
  {
   "cell_type": "code",
   "execution_count": 12,
   "id": "64be2f25",
   "metadata": {},
   "outputs": [
    {
     "name": "stdout",
     "output_type": "stream",
     "text": [
      "41"
     ]
    }
   ],
   "source": [
    "#convert decimal to octal   \n",
    "\n",
    "def decToOctal(n):\n",
    "    octalNum = [0]*100\n",
    "    i = 0\n",
    "    while n!= 0 :\n",
    "            octalNum[i] = n%8\n",
    "            n = int(n/8)\n",
    "            i+=1\n",
    "            \n",
    "    for j in range(i-1,-1,-1):\n",
    "        print(octalNum[j],end=\"\")\n",
    "            \n",
    "n = 33\n",
    "decToOctal(n)\n",
    "    "
   ]
  },
  {
   "cell_type": "code",
   "execution_count": 13,
   "id": "440f8db0",
   "metadata": {},
   "outputs": [
    {
     "name": "stdout",
     "output_type": "stream",
     "text": [
      "Incles is: 3.94\n",
      "Feet is: 0.33\n"
     ]
    }
   ],
   "source": [
    "#convert Centinemter into feet and inches     \n",
    "\n",
    "\n",
    "def Conversion(centi):\n",
    "    inch = 0.3937 * centi\n",
    "    feet = 0.0328 * centi\n",
    "    print(\"Incles is:\",round(inch,2))\n",
    "    print(\"Feet is:\",round(feet,2))\n",
    "    \n",
    "    \n",
    "centi = 10\n",
    "Conversion(centi)"
   ]
  },
  {
   "cell_type": "code",
   "execution_count": 14,
   "id": "74502bef",
   "metadata": {},
   "outputs": [
    {
     "name": "stdout",
     "output_type": "stream",
     "text": [
      "Enter 'x' for exit\n",
      "Enter a number in Heexadecimal Format: 1A3\n",
      "1A3 in Octal =  0o643\n"
     ]
    }
   ],
   "source": [
    "#convert hexadecimal to octal\n",
    "\n",
    "print(\"Enter 'x' for exit\")\n",
    "\n",
    "hexadec = input(\"Enter a number in Heexadecimal Format: \")\n",
    "\n",
    "if hexadec == 'x':\n",
    "    exit()\n",
    "    \n",
    "else:\n",
    "    dec = int(hexadec,16)\n",
    "    print(hexadec,\"in Octal = \",oct(dec))"
   ]
  },
  {
   "cell_type": "code",
   "execution_count": 15,
   "id": "cd171a0b",
   "metadata": {},
   "outputs": [
    {
     "name": "stdout",
     "output_type": "stream",
     "text": [
      "Enter 'x' for exit\n",
      "Enter a number in Heexadecimal Format: 1AC5\n",
      "1AC5 in Binary =  0b1101011000101\n"
     ]
    }
   ],
   "source": [
    "#convert hexadecimal to binary\n",
    "print(\"Enter 'x' for exit\")\n",
    "\n",
    "hexadec = input(\"Enter a number in Heexadecimal Format: \")\n",
    "\n",
    "if hexadec == 'x':\n",
    "    exit()\n",
    "    \n",
    "else:\n",
    "    dec = int(hexadec,16)\n",
    "    print(hexadec,\"in Binary = \",bin(dec))"
   ]
  },
  {
   "cell_type": "code",
   "execution_count": 16,
   "id": "edc4cea7",
   "metadata": {},
   "outputs": [
    {
     "name": "stdout",
     "output_type": "stream",
     "text": [
      "Enter 'x' for exit\n",
      "Enter Temperature in Fahrenheit Format: 98.6\n",
      "temperature in Celcius 36.99999999999999\n"
     ]
    }
   ],
   "source": [
    "#convert fahrenheit to Celcius    \n",
    "\n",
    "print(\"Enter 'x' for exit\")\n",
    "\n",
    "fah = input(\"Enter Temperature in Fahrenheit Format: \")\n",
    "\n",
    "if fah == 'x':\n",
    "    exit()\n",
    "    \n",
    "else:\n",
    "    fahrenheit = float(fah)\n",
    "    celcius = (fahrenheit-32)/1.8;\n",
    "    print(\"temperature in Celcius\",celcius)"
   ]
  },
  {
   "cell_type": "code",
   "execution_count": 17,
   "id": "4c4545fa",
   "metadata": {},
   "outputs": [
    {
     "name": "stdout",
     "output_type": "stream",
     "text": [
      "Enter 'x' for exit\n",
      "Enter a number in Heexadecimal Format: 346\n",
      "346 in Hexadecimal =  0xe6\n"
     ]
    }
   ],
   "source": [
    "#convert octal to hexadecimal\n",
    "print(\"Enter 'x' for exit\")\n",
    "\n",
    "octal = input(\"Enter a number in Heexadecimal Format: \")\n",
    "\n",
    "if octal == 'x':\n",
    "    exit()\n",
    "    \n",
    "else:\n",
    "    dec = str(int(octal,8))\n",
    "    decm = int(dec)\n",
    "    print(octal,\"in Hexadecimal = \",hex(decm))"
   ]
  },
  {
   "cell_type": "code",
   "execution_count": 1,
   "id": "f4b18991",
   "metadata": {},
   "outputs": [
    {
     "name": "stdout",
     "output_type": "stream",
     "text": [
      "Enter 'x' for exit\n",
      "Enter a number in Octal Format: 346\n",
      "346 in Binary =  0b11100110\n"
     ]
    }
   ],
   "source": [
    "#convert octal to binary\n",
    "print(\"Enter 'x' for exit\")\n",
    "\n",
    "octal = input(\"Enter a number in Octal Format: \")\n",
    "\n",
    "if octal == 'x':\n",
    "    exit()\n",
    "else:\n",
    "    dec = str(int(octal,8))\n",
    "    decm = int(dec)\n",
    "    print(octal,\"in Binary = \",bin(decm))    "
   ]
  },
  {
   "cell_type": "code",
   "execution_count": 2,
   "id": "e642926a",
   "metadata": {},
   "outputs": [
    {
     "name": "stdout",
     "output_type": "stream",
     "text": [
      "55\n"
     ]
    }
   ],
   "source": [
    "#octal to decimal\n",
    "\n",
    "def OctalToDecimal(n):\n",
    "    num = n\n",
    "    dec_value = 0\n",
    "    \n",
    "    base = 1\n",
    "    temp= num\n",
    "    while temp:\n",
    "        last_digit = temp%10\n",
    "        temp = int(temp/10)\n",
    "        dec_value += last_digit * base\n",
    "        base = base *8\n",
    "        \n",
    "    return dec_value\n",
    "num = 67\n",
    "print(OctalToDecimal(num))"
   ]
  },
  {
   "cell_type": "code",
   "execution_count": null,
   "id": "39090151",
   "metadata": {},
   "outputs": [],
   "source": [
    "#completed"
   ]
  }
 ],
 "metadata": {
  "kernelspec": {
   "display_name": "Python 3",
   "language": "python",
   "name": "python3"
  },
  "language_info": {
   "codemirror_mode": {
    "name": "ipython",
    "version": 3
   },
   "file_extension": ".py",
   "mimetype": "text/x-python",
   "name": "python",
   "nbconvert_exporter": "python",
   "pygments_lexer": "ipython3",
   "version": "3.8.8"
  }
 },
 "nbformat": 4,
 "nbformat_minor": 5
}
